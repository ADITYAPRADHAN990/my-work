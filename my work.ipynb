{
 "cells": [
  {
   "cell_type": "markdown",
   "id": "bbbd9dca",
   "metadata": {},
   "source": [
    "# Data Science Tools and Ecosystem\n"
   ]
  },
  {
   "cell_type": "raw",
   "id": "15a0d404",
   "metadata": {},
   "source": [
    "Some of the top data science programming languages:\n",
    "1.Python\n",
    "2.R\n",
    "3.SQL\n",
    "4.Java\n",
    "5.Julia\n",
    "6.Scala\n",
    "7.C/C++\n",
    "8.JavaScript\n",
    "9.Swift\n",
    "10.Go\n",
    "11.MATLAB\n",
    "12.SAS\n",
    "    "
   ]
  },
  {
   "cell_type": "raw",
   "id": "caad004b",
   "metadata": {},
   "source": [
    "Some of the top Python Libraries Used in Data Science:\n",
    "1.TensorFlow\n",
    "2.NumPy\n",
    "3.SciPy \n",
    "4.Pandas\n",
    "5.Matplotlib \n",
    "6.Keras\n",
    "7.SciKit-Learn\n",
    "8.PyTorch\n",
    "9.Scrapy\n",
    "10.BeautifulSoup\n",
    "    "
   ]
  },
  {
   "cell_type": "markdown",
   "id": "a25fc142",
   "metadata": {},
   "source": [
    "|Data science tools|\n",
    "|------------------|\n",
    "|    SAS           |\n",
    "|    IBM SPSS      |\n",
    "|    Julia         |\n",
    "| Jupyter Notebook |\n"
   ]
  },
  {
   "cell_type": "markdown",
   "id": "e17c9668",
   "metadata": {},
   "source": [
    "# Introduction\n",
    "In a world of data space where organizations deal with petabytes and exabytes of data, the era of Big Data emerged, the essence of its storage also grew. It was a great challenge and concern for industries for the storage of data until 2010.Now when frameworks like Hadoop and others solved the problem of storage, the focus shifted to processing of data. Data Science plays a big role here. All those fancy Sci-fi movies you love to watch around can turn into reality by Data Science. \n",
    "\n",
    "\n",
    "\n"
   ]
  },
  {
   "cell_type": "markdown",
   "id": "23a6b4cf",
   "metadata": {},
   "source": [
    "# Arithmatic expression in python\n",
    "\n",
    "\n",
    "\n"
   ]
  },
  {
   "cell_type": "code",
   "execution_count": 18,
   "id": "ccd5cb2c",
   "metadata": {},
   "outputs": [
    {
     "data": {
      "text/plain": [
       "9"
      ]
     },
     "execution_count": 18,
     "metadata": {},
     "output_type": "execute_result"
    }
   ],
   "source": [
    "#multiplication than add\n",
    "(2*2)+5"
   ]
  },
  {
   "cell_type": "code",
   "execution_count": 21,
   "id": "8959ece6",
   "metadata": {},
   "outputs": [
    {
     "data": {
      "text/plain": [
       "5.0"
      ]
     },
     "execution_count": 21,
     "metadata": {},
     "output_type": "execute_result"
    }
   ],
   "source": [
    "#convert 300 min into hr by dividing 60\n",
    "300/60"
   ]
  },
  {
   "cell_type": "markdown",
   "id": "8122b1e4",
   "metadata": {},
   "source": [
    "# Objectives\n",
    "* Study basics of data science and its scope.\n",
    "* Describe basics of data science process and recognize common tools used for Data Science application development.\n",
    "* Explore functions of Python libraries & packages.\n",
    "* Apply data science concepts and methods to find solution to real-world problems and will communicate these solutions effectively.\n"
   ]
  },
  {
   "cell_type": "markdown",
   "id": "16c8c039",
   "metadata": {},
   "source": [
    "# Author’s name\n",
    "Aditya pradhan"
   ]
  },
  {
   "cell_type": "code",
   "execution_count": null,
   "id": "11f20113",
   "metadata": {},
   "outputs": [],
   "source": []
  }
 ],
 "metadata": {
  "kernelspec": {
   "display_name": "Python 3 (ipykernel)",
   "language": "python",
   "name": "python3"
  },
  "language_info": {
   "codemirror_mode": {
    "name": "ipython",
    "version": 3
   },
   "file_extension": ".py",
   "mimetype": "text/x-python",
   "name": "python",
   "nbconvert_exporter": "python",
   "pygments_lexer": "ipython3",
   "version": "3.11.4"
  }
 },
 "nbformat": 4,
 "nbformat_minor": 5
}
